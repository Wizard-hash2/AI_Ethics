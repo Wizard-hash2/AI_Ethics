{
  "nbformat": 4,
  "nbformat_minor": 0,
  "metadata": {
    "colab": {
      "provenance": []
    },
    "kernelspec": {
      "name": "python3",
      "display_name": "Python 3"
    },
    "language_info": {
      "name": "python"
    }
  },
  "cells": [
    {
      "cell_type": "code",
      "source": [
        "# ✅ Step 1: Install AIF360\n",
        "!pip install aif360\n"
      ],
      "metadata": {
        "colab": {
          "base_uri": "https://localhost:8080/"
        },
        "id": "ditHhjVJVC2w",
        "outputId": "476c9716-5b78-4f80-8f08-d3ef118d479c"
      },
      "execution_count": 52,
      "outputs": [
        {
          "output_type": "stream",
          "name": "stdout",
          "text": [
            "Requirement already satisfied: aif360 in /usr/local/lib/python3.11/dist-packages (0.6.1)\n",
            "Requirement already satisfied: numpy>=1.16 in /usr/local/lib/python3.11/dist-packages (from aif360) (2.0.2)\n",
            "Requirement already satisfied: scipy>=1.2.0 in /usr/local/lib/python3.11/dist-packages (from aif360) (1.15.3)\n",
            "Requirement already satisfied: pandas>=0.24.0 in /usr/local/lib/python3.11/dist-packages (from aif360) (2.2.2)\n",
            "Requirement already satisfied: scikit-learn>=1.0 in /usr/local/lib/python3.11/dist-packages (from aif360) (1.6.1)\n",
            "Requirement already satisfied: matplotlib in /usr/local/lib/python3.11/dist-packages (from aif360) (3.10.0)\n",
            "Requirement already satisfied: python-dateutil>=2.8.2 in /usr/local/lib/python3.11/dist-packages (from pandas>=0.24.0->aif360) (2.9.0.post0)\n",
            "Requirement already satisfied: pytz>=2020.1 in /usr/local/lib/python3.11/dist-packages (from pandas>=0.24.0->aif360) (2025.2)\n",
            "Requirement already satisfied: tzdata>=2022.7 in /usr/local/lib/python3.11/dist-packages (from pandas>=0.24.0->aif360) (2025.2)\n",
            "Requirement already satisfied: joblib>=1.2.0 in /usr/local/lib/python3.11/dist-packages (from scikit-learn>=1.0->aif360) (1.5.1)\n",
            "Requirement already satisfied: threadpoolctl>=3.1.0 in /usr/local/lib/python3.11/dist-packages (from scikit-learn>=1.0->aif360) (3.6.0)\n",
            "Requirement already satisfied: contourpy>=1.0.1 in /usr/local/lib/python3.11/dist-packages (from matplotlib->aif360) (1.3.2)\n",
            "Requirement already satisfied: cycler>=0.10 in /usr/local/lib/python3.11/dist-packages (from matplotlib->aif360) (0.12.1)\n",
            "Requirement already satisfied: fonttools>=4.22.0 in /usr/local/lib/python3.11/dist-packages (from matplotlib->aif360) (4.58.5)\n",
            "Requirement already satisfied: kiwisolver>=1.3.1 in /usr/local/lib/python3.11/dist-packages (from matplotlib->aif360) (1.4.8)\n",
            "Requirement already satisfied: packaging>=20.0 in /usr/local/lib/python3.11/dist-packages (from matplotlib->aif360) (24.2)\n",
            "Requirement already satisfied: pillow>=8 in /usr/local/lib/python3.11/dist-packages (from matplotlib->aif360) (11.2.1)\n",
            "Requirement already satisfied: pyparsing>=2.3.1 in /usr/local/lib/python3.11/dist-packages (from matplotlib->aif360) (3.2.3)\n",
            "Requirement already satisfied: six>=1.5 in /usr/local/lib/python3.11/dist-packages (from python-dateutil>=2.8.2->pandas>=0.24.0->aif360) (1.17.0)\n"
          ]
        }
      ]
    },
    {
      "cell_type": "code",
      "source": [
        "# ✅ Step 2: Download COMPAS dataset automatically\n",
        "!mkdir -p data/compas\n",
        "!wget -O data/compas/compas-scores-two-years.csv https://raw.githubusercontent.com/propublica/compas-analysis/master/compas-scores-two-years.csv\n"
      ],
      "metadata": {
        "colab": {
          "base_uri": "https://localhost:8080/"
        },
        "id": "k3Zu5U5mXtGf",
        "outputId": "2e70b9fc-e46a-4d94-cde4-92d512ac7d90"
      },
      "execution_count": 53,
      "outputs": [
        {
          "output_type": "stream",
          "name": "stdout",
          "text": [
            "--2025-07-14 19:44:54--  https://raw.githubusercontent.com/propublica/compas-analysis/master/compas-scores-two-years.csv\n",
            "Resolving raw.githubusercontent.com (raw.githubusercontent.com)... 185.199.108.133, 185.199.111.133, 185.199.110.133, ...\n",
            "Connecting to raw.githubusercontent.com (raw.githubusercontent.com)|185.199.108.133|:443... connected.\n",
            "HTTP request sent, awaiting response... 200 OK\n",
            "Length: 2546489 (2.4M) [text/plain]\n",
            "Saving to: ‘data/compas/compas-scores-two-years.csv’\n",
            "\n",
            "data/compas/compas- 100%[===================>]   2.43M  7.57MB/s    in 0.3s    \n",
            "\n",
            "2025-07-14 19:44:55 (7.57 MB/s) - ‘data/compas/compas-scores-two-years.csv’ saved [2546489/2546489]\n",
            "\n"
          ]
        }
      ]
    },
    {
      "cell_type": "code",
      "source": [
        "# ✅ Step 3: Load and filter the dataset\n",
        "import pandas as pd\n",
        "\n",
        "# Load the dataset\n",
        "df = pd.read_csv(\"data/compas/compas-scores-two-years.csv\")\n",
        "\n",
        "# Keep only relevant races and score categories\n",
        "df = df[df['race'].isin(['African-American', 'Caucasian'])]\n",
        "df = df[df['score_text'].isin(['Low', 'High'])]\n",
        "\n",
        "# Drop rows with critical missing values\n",
        "required_cols = ['score_text', 'race', 'age', 'sex', 'priors_count', 'juv_fel_count', 'juv_misd_count']\n",
        "df = df.dropna(subset=required_cols)\n",
        "\n",
        "# Map labels\n",
        "df['score_text'] = df['score_text'].map({'Low': 1, 'High': 0})\n",
        "df['race'] = df['race'].map({'Caucasian': 1, 'African-American': 0})\n",
        "\n",
        "# One-hot encode 'sex'\n",
        "df = pd.get_dummies(df, columns=['sex'], prefix='sex')\n",
        "\n",
        "print(\"Final cleaned dataset size:\", df.shape)"
      ],
      "metadata": {
        "colab": {
          "base_uri": "https://localhost:8080/"
        },
        "id": "PVDb82VJUrbd",
        "outputId": "a3edefde-c053-49a5-a961-4c57b5d43dfd"
      },
      "execution_count": 54,
      "outputs": [
        {
          "output_type": "stream",
          "name": "stdout",
          "text": [
            "Final cleaned dataset size: (4423, 54)\n"
          ]
        }
      ]
    },
    {
      "cell_type": "code",
      "source": [
        "# ✅ Step 4: Wrap in AIF360 StandardDataset\n",
        "from aif360.datasets import StandardDataset\n",
        "\n",
        "# Keep only relevant features for the dataset\n",
        "features_to_keep = ['age', 'sex_Female', 'sex_Male', 'priors_count', 'juv_fel_count', 'juv_misd_count', 'race', 'score_text']\n",
        "dataset = StandardDataset(df[features_to_keep],\n",
        "    label_name='score_text',\n",
        "    favorable_classes=[1],\n",
        "    protected_attribute_names=['race'],\n",
        "    privileged_classes=[[1]])"
      ],
      "metadata": {
        "id": "gVlDJOMCU01m"
      },
      "execution_count": 55,
      "outputs": []
    },
    {
      "cell_type": "code",
      "source": [
        "# ✅ Step 5: Fairness Metrics\n",
        "from aif360.metrics import BinaryLabelDatasetMetric\n",
        "\n",
        "privileged_groups = [{'race': 1}]  # White\n",
        "unprivileged_groups = [{'race': 0}]  # Black\n",
        "\n",
        "metric = BinaryLabelDatasetMetric(dataset, privileged_groups, unprivileged_groups)\n",
        "\n",
        "print(\"Statistical Parity Difference:\", metric.statistical_parity_difference())\n",
        "print(\"Disparate Impact:\", metric.disparate_impact())\n"
      ],
      "metadata": {
        "colab": {
          "base_uri": "https://localhost:8080/"
        },
        "id": "bLCipsrfbvAc",
        "outputId": "dba5a690-17a8-4adc-a8a4-24c5b2878b8c"
      },
      "execution_count": 56,
      "outputs": [
        {
          "output_type": "stream",
          "name": "stdout",
          "text": [
            "Statistical Parity Difference: 0.25531270117526117\n",
            "Disparate Impact: 1.4272545662900067\n"
          ]
        }
      ]
    },
    {
      "cell_type": "code",
      "source": [
        "# ✅ Step 6: Train/Test Split and Logistic Regression\n",
        "from sklearn.linear_model import LogisticRegression\n",
        "from sklearn.preprocessing import StandardScaler\n",
        "from aif360.metrics import ClassificationMetric\n",
        "\n",
        "train, test = dataset.split([0.7], shuffle=True)\n",
        "\n",
        "scaler = StandardScaler()\n",
        "X_train = scaler.fit_transform(train.features)\n",
        "X_test = scaler.transform(test.features)\n",
        "\n",
        "y_train = train.labels.ravel()\n",
        "y_test = test.labels.ravel()\n",
        "\n",
        "model = LogisticRegression()\n",
        "model.fit(X_train, y_train)\n",
        "\n",
        "test_pred = test.copy()\n",
        "test_pred.labels = model.predict(X_test).reshape(-1, 1)\n",
        "\n",
        "classified_metric = ClassificationMetric(test, test_pred, unprivileged_groups, privileged_groups)\n",
        "print(\"False Positive Rate Difference:\", classified_metric.false_positive_rate_difference())\n"
      ],
      "metadata": {
        "colab": {
          "base_uri": "https://localhost:8080/"
        },
        "id": "uUbcoAgfbwv6",
        "outputId": "69483583-43f9-46b9-8273-45198e8b8e2f"
      },
      "execution_count": 57,
      "outputs": [
        {
          "output_type": "stream",
          "name": "stdout",
          "text": [
            "False Positive Rate Difference: -0.30316689782709205\n"
          ]
        }
      ]
    },
    {
      "cell_type": "code",
      "source": [
        "# ✅ Step 7: Visualize False Positive Rates by Race\n",
        "import matplotlib.pyplot as plt\n",
        "\n",
        "fpr_priv = classified_metric.false_positive_rate(privileged=True)\n",
        "fpr_unpriv = classified_metric.false_positive_rate(privileged=False)\n",
        "\n",
        "plt.bar(['White', 'Black'], [fpr_priv, fpr_unpriv], color=['skyblue', 'salmon'])\n",
        "plt.title('False Positive Rate by Race')\n",
        "plt.ylabel('Rate')\n",
        "plt.show()\n"
      ],
      "metadata": {
        "colab": {
          "base_uri": "https://localhost:8080/",
          "height": 452
        },
        "id": "DtaIf7hub4A9",
        "outputId": "bbd7ed3b-801f-48c3-feca-5e69f3b1c6a6"
      },
      "execution_count": 58,
      "outputs": [
        {
          "output_type": "display_data",
          "data": {
            "text/plain": [
              "<Figure size 640x480 with 1 Axes>"
            ],
            "image/png": "[encoded data removed]"
          },
          "metadata": {}
        }
      ]
    }
  ]
}